{
 "cells": [
  {
   "cell_type": "code",
   "execution_count": 139,
   "metadata": {},
   "outputs": [
    {
     "name": "stdout",
     "output_type": "stream",
     "text": [
      "                                                  Name PClass    Age     Sex  \\\n",
      "0                         Allen, Miss Elisabeth Walton    1st  29.00  female   \n",
      "1                          Allison, Miss Helen Loraine    1st   2.00  female   \n",
      "2                  Allison, Mr Hudson Joshua Creighton    1st  30.00    male   \n",
      "3        Allison, Mrs Hudson JC (Bessie Waldo Daniels)    1st  25.00  female   \n",
      "4                        Allison, Master Hudson Trevor    1st   0.92    male   \n",
      "5                                   Anderson, Mr Harry    1st  47.00    male   \n",
      "6                     Andrews, Miss Kornelia Theodosia    1st  63.00  female   \n",
      "7                               Andrews, Mr Thomas, jr    1st  39.00    male   \n",
      "8         Appleton, Mrs Edward Dale (Charlotte Lamson)    1st  58.00  female   \n",
      "9                               Artagaveytia, Mr Ramon    1st  71.00    male   \n",
      "10                           Astor, Colonel John Jacob    1st  47.00    male   \n",
      "11    Astor, Mrs John Jacob (Madeleine Talmadge Force)    1st  19.00  female   \n",
      "12                        Aubert, Mrs Leontine Pauline    1st    NaN  female   \n",
      "13                            Barkworth, Mr Algernon H    1st    NaN    male   \n",
      "14                                  Baumann, Mr John D    1st    NaN    male   \n",
      "15      Baxter, Mrs James (Helene DeLaudeniere Chaput)    1st  50.00  female   \n",
      "16                             Baxter, Mr Quigg Edmond    1st  24.00    male   \n",
      "17                                 Beattie, Mr Thomson    1st  36.00    male   \n",
      "18                        Beckwith, Mr Richard Leonard    1st  37.00    male   \n",
      "19     Beckwith, Mrs Richard Leonard (Sallie Monypeny)    1st  47.00  female   \n",
      "20                                Behr, Mr Karl Howell    1st  26.00    male   \n",
      "21                                  Birnbaum, Mr Jakob    1st  25.00    male   \n",
      "22                              Bishop, Mr Dickinson H    1st  25.00    male   \n",
      "23              Bishop, Mrs Dickinson H (Helen Walton)    1st  19.00  female   \n",
      "24             Bjornstrm-Steffansson, Mr Mauritz Hakan    1st  28.00    male   \n",
      "25                         Blackwell, Mr Stephen Weart    1st  45.00    male   \n",
      "26                                     Blank, Mr Henry    1st  39.00    male   \n",
      "27                              Bonnell, Miss Caroline    1st  30.00  female   \n",
      "28                             Bonnell, Miss Elizabeth    1st  58.00  female   \n",
      "29                             Borebank, Mr John James    1st    NaN    male   \n",
      "...                                                ...    ...    ...     ...   \n",
      "1283               Vestrom, Miss Hulda Amanda Adolfina    3rd  14.00  female   \n",
      "1284                                    Vonk, Mr Jenko    3rd  22.00    male   \n",
      "1285                                Ware, Mr Frederick    3rd    NaN    male   \n",
      "1286                        Warren, Mr Charles William    3rd    NaN    male   \n",
      "1287                                  Wazli, Mr Yousif    3rd    NaN    male   \n",
      "1288                                  Webber, Mr James    3rd    NaN    male   \n",
      "1289                     Wennerstrom, Mr August Edvard    3rd    NaN    male   \n",
      "1290                                Wenzel, Mr Linhart    3rd    NaN    male   \n",
      "1291                        Widegren, Mr Charles Peter    3rd  51.00    male   \n",
      "1292                          Wiklund, Mr Jacob Alfred    3rd  18.00    male   \n",
      "1293                                 Wilkes, Mrs Ellen    3rd  45.00  female   \n",
      "1294                                  Willer, Mr Aaron    3rd    NaN    male   \n",
      "1295                                 Willey, Mr Edward    3rd    NaN    male   \n",
      "1296                          Williams, Mr Howard Hugh    3rd    NaN    male   \n",
      "1297                               Williams, Mr Leslie    3rd  28.00    male   \n",
      "1298                                Windelov, Mr Einar    3rd  21.00    male   \n",
      "1299                                   Wirz, Mr Albert    3rd  27.00    male   \n",
      "1300                             Wiseman, Mr Phillippe    3rd    NaN    male   \n",
      "1301                           Wittevrongel, Mr Camiel    3rd  36.00    male   \n",
      "1302                                 Yalsevac, Mr Ivan    3rd    NaN    male   \n",
      "1303                                Yasbeck, Mr Antoni    3rd  27.00    male   \n",
      "1304                               Yasbeck, Mrs Antoni    3rd  15.00  female   \n",
      "1305                                Youssef, Mr Gerios    3rd    NaN    male   \n",
      "1306                               Zabour, Miss Hileni    3rd    NaN  female   \n",
      "1307                               Zabour, Miss Tamini    3rd    NaN  female   \n",
      "1308                                Zakarian, Mr Artun    3rd  27.00    male   \n",
      "1309                            Zakarian, Mr Maprieder    3rd  26.00    male   \n",
      "1310                                  Zenni, Mr Philip    3rd  22.00    male   \n",
      "1311                                  Lievens, Mr Rene    3rd  24.00    male   \n",
      "1312                                    Zimmerman, Leo    3rd  29.00    male   \n",
      "\n",
      "      Survived  SexCode  \n",
      "0            1        1  \n",
      "1            0        1  \n",
      "2            0        0  \n",
      "3            0        1  \n",
      "4            1        0  \n",
      "5            1        0  \n",
      "6            1        1  \n",
      "7            0        0  \n",
      "8            1        1  \n",
      "9            0        0  \n",
      "10           0        0  \n",
      "11           1        1  \n",
      "12           1        1  \n",
      "13           1        0  \n",
      "14           0        0  \n",
      "15           1        1  \n",
      "16           0        0  \n",
      "17           0        0  \n",
      "18           1        0  \n",
      "19           1        1  \n",
      "20           1        0  \n",
      "21           0        0  \n",
      "22           1        0  \n",
      "23           1        1  \n",
      "24           1        0  \n",
      "25           0        0  \n",
      "26           1        0  \n",
      "27           1        1  \n",
      "28           1        1  \n",
      "29           0        0  \n",
      "...        ...      ...  \n",
      "1283         0        1  \n",
      "1284         0        0  \n",
      "1285         0        0  \n",
      "1286         0        0  \n",
      "1287         0        0  \n",
      "1288         0        0  \n",
      "1289         1        0  \n",
      "1290         0        0  \n",
      "1291         0        0  \n",
      "1292         0        0  \n",
      "1293         1        1  \n",
      "1294         0        0  \n",
      "1295         0        0  \n",
      "1296         0        0  \n",
      "1297         0        0  \n",
      "1298         0        0  \n",
      "1299         0        0  \n",
      "1300         0        0  \n",
      "1301         0        0  \n",
      "1302         1        0  \n",
      "1303         0        0  \n",
      "1304         1        1  \n",
      "1305         0        0  \n",
      "1306         0        1  \n",
      "1307         0        1  \n",
      "1308         0        0  \n",
      "1309         0        0  \n",
      "1310         0        0  \n",
      "1311         0        0  \n",
      "1312         0        0  \n",
      "\n",
      "[1313 rows x 6 columns]\n"
     ]
    }
   ],
   "source": [
    "import pandas as pd\n",
    "import numpy as np\n",
    "df = pd.read_csv('/Users/exam/Documents/Nishant/ML/titanic-csv.csv')\n",
    "print(df)"
   ]
  },
  {
   "cell_type": "code",
   "execution_count": 111,
   "metadata": {},
   "outputs": [
    {
     "data": {
      "text/plain": [
       "array(['female', 'male'], dtype=object)"
      ]
     },
     "execution_count": 111,
     "metadata": {},
     "output_type": "execute_result"
    }
   ],
   "source": [
    "df['Sex'].unique()"
   ]
  },
  {
   "cell_type": "code",
   "execution_count": 112,
   "metadata": {},
   "outputs": [
    {
     "data": {
      "text/plain": [
       "male      851\n",
       "female    462\n",
       "Name: Sex, dtype: int64"
      ]
     },
     "execution_count": 112,
     "metadata": {},
     "output_type": "execute_result"
    }
   ],
   "source": [
    "df['Sex'].value_counts()"
   ]
  },
  {
   "cell_type": "code",
   "execution_count": 113,
   "metadata": {},
   "outputs": [
    {
     "data": {
      "text/plain": [
       "3rd    711\n",
       "1st    322\n",
       "2nd    279\n",
       "*        1\n",
       "Name: PClass, dtype: int64"
      ]
     },
     "execution_count": 113,
     "metadata": {},
     "output_type": "execute_result"
    }
   ],
   "source": [
    "df['PClass'].value_counts()"
   ]
  },
  {
   "cell_type": "code",
   "execution_count": 114,
   "metadata": {},
   "outputs": [
    {
     "data": {
      "text/plain": [
       "4"
      ]
     },
     "execution_count": 114,
     "metadata": {},
     "output_type": "execute_result"
    }
   ],
   "source": [
    "df['PClass'].nunique()"
   ]
  },
  {
   "cell_type": "code",
   "execution_count": 115,
   "metadata": {},
   "outputs": [
    {
     "data": {
      "text/html": [
       "<div>\n",
       "<style>\n",
       "    .dataframe thead tr:only-child th {\n",
       "        text-align: right;\n",
       "    }\n",
       "\n",
       "    .dataframe thead th {\n",
       "        text-align: left;\n",
       "    }\n",
       "\n",
       "    .dataframe tbody tr th {\n",
       "        vertical-align: top;\n",
       "    }\n",
       "</style>\n",
       "<table border=\"1\" class=\"dataframe\">\n",
       "  <thead>\n",
       "    <tr style=\"text-align: right;\">\n",
       "      <th></th>\n",
       "      <th>Name</th>\n",
       "      <th>PClass</th>\n",
       "      <th>Age</th>\n",
       "      <th>Sex</th>\n",
       "      <th>Survived</th>\n",
       "      <th>SexCode</th>\n",
       "    </tr>\n",
       "  </thead>\n",
       "  <tbody>\n",
       "    <tr>\n",
       "      <th>12</th>\n",
       "      <td>Aubert, Mrs Leontine Pauline</td>\n",
       "      <td>1st</td>\n",
       "      <td>NaN</td>\n",
       "      <td>female</td>\n",
       "      <td>1</td>\n",
       "      <td>1</td>\n",
       "    </tr>\n",
       "    <tr>\n",
       "      <th>13</th>\n",
       "      <td>Barkworth, Mr Algernon H</td>\n",
       "      <td>1st</td>\n",
       "      <td>NaN</td>\n",
       "      <td>male</td>\n",
       "      <td>1</td>\n",
       "      <td>0</td>\n",
       "    </tr>\n",
       "    <tr>\n",
       "      <th>14</th>\n",
       "      <td>Baumann, Mr John D</td>\n",
       "      <td>1st</td>\n",
       "      <td>NaN</td>\n",
       "      <td>male</td>\n",
       "      <td>0</td>\n",
       "      <td>0</td>\n",
       "    </tr>\n",
       "    <tr>\n",
       "      <th>29</th>\n",
       "      <td>Borebank, Mr John James</td>\n",
       "      <td>1st</td>\n",
       "      <td>NaN</td>\n",
       "      <td>male</td>\n",
       "      <td>0</td>\n",
       "      <td>0</td>\n",
       "    </tr>\n",
       "    <tr>\n",
       "      <th>32</th>\n",
       "      <td>Bradley, Mr George</td>\n",
       "      <td>1st</td>\n",
       "      <td>NaN</td>\n",
       "      <td>male</td>\n",
       "      <td>1</td>\n",
       "      <td>0</td>\n",
       "    </tr>\n",
       "  </tbody>\n",
       "</table>\n",
       "</div>"
      ],
      "text/plain": [
       "                            Name PClass  Age     Sex  Survived  SexCode\n",
       "12  Aubert, Mrs Leontine Pauline    1st  NaN  female         1        1\n",
       "13      Barkworth, Mr Algernon H    1st  NaN    male         1        0\n",
       "14            Baumann, Mr John D    1st  NaN    male         0        0\n",
       "29       Borebank, Mr John James    1st  NaN    male         0        0\n",
       "32            Bradley, Mr George    1st  NaN    male         1        0"
      ]
     },
     "execution_count": 115,
     "metadata": {},
     "output_type": "execute_result"
    }
   ],
   "source": [
    "df[df['Age'].isnull()].head()"
   ]
  },
  {
   "cell_type": "markdown",
   "metadata": {},
   "source": [
    "## Sum of Age"
   ]
  },
  {
   "cell_type": "code",
   "execution_count": 116,
   "metadata": {},
   "outputs": [
    {
     "data": {
      "text/plain": [
       "557"
      ]
     },
     "execution_count": 116,
     "metadata": {},
     "output_type": "execute_result"
    }
   ],
   "source": [
    "df['Age'].isnull().sum()"
   ]
  },
  {
   "cell_type": "markdown",
   "metadata": {},
   "source": [
    "## Replace NaN with 0s"
   ]
  },
  {
   "cell_type": "code",
   "execution_count": 121,
   "metadata": {},
   "outputs": [
    {
     "name": "stdout",
     "output_type": "stream",
     "text": [
      "                                                  Name PClass    Age     Sex  \\\n",
      "0                         Allen, Miss Elisabeth Walton    1st  29.00  female   \n",
      "1                          Allison, Miss Helen Loraine    1st   2.00  female   \n",
      "2                  Allison, Mr Hudson Joshua Creighton    1st  30.00    male   \n",
      "3        Allison, Mrs Hudson JC (Bessie Waldo Daniels)    1st  25.00  female   \n",
      "4                        Allison, Master Hudson Trevor    1st   0.92    male   \n",
      "5                                   Anderson, Mr Harry    1st  47.00    male   \n",
      "6                     Andrews, Miss Kornelia Theodosia    1st  63.00  female   \n",
      "7                               Andrews, Mr Thomas, jr    1st  39.00    male   \n",
      "8         Appleton, Mrs Edward Dale (Charlotte Lamson)    1st  58.00  female   \n",
      "9                               Artagaveytia, Mr Ramon    1st  71.00    male   \n",
      "10                           Astor, Colonel John Jacob    1st  47.00    male   \n",
      "11    Astor, Mrs John Jacob (Madeleine Talmadge Force)    1st  19.00  female   \n",
      "12                        Aubert, Mrs Leontine Pauline    1st    NaN  female   \n",
      "13                            Barkworth, Mr Algernon H    1st    NaN    male   \n",
      "14                                  Baumann, Mr John D    1st    NaN    male   \n",
      "15      Baxter, Mrs James (Helene DeLaudeniere Chaput)    1st  50.00  female   \n",
      "16                             Baxter, Mr Quigg Edmond    1st  24.00    male   \n",
      "17                                 Beattie, Mr Thomson    1st  36.00    male   \n",
      "18                        Beckwith, Mr Richard Leonard    1st  37.00    male   \n",
      "19     Beckwith, Mrs Richard Leonard (Sallie Monypeny)    1st  47.00  female   \n",
      "20                                Behr, Mr Karl Howell    1st  26.00    male   \n",
      "21                                  Birnbaum, Mr Jakob    1st  25.00    male   \n",
      "22                              Bishop, Mr Dickinson H    1st  25.00    male   \n",
      "23              Bishop, Mrs Dickinson H (Helen Walton)    1st  19.00  female   \n",
      "24             Bjornstrm-Steffansson, Mr Mauritz Hakan    1st  28.00    male   \n",
      "25                         Blackwell, Mr Stephen Weart    1st  45.00    male   \n",
      "26                                     Blank, Mr Henry    1st  39.00    male   \n",
      "27                              Bonnell, Miss Caroline    1st  30.00  female   \n",
      "28                             Bonnell, Miss Elizabeth    1st  58.00  female   \n",
      "29                             Borebank, Mr John James    1st    NaN    male   \n",
      "...                                                ...    ...    ...     ...   \n",
      "1283               Vestrom, Miss Hulda Amanda Adolfina    3rd  14.00  female   \n",
      "1284                                    Vonk, Mr Jenko    3rd  22.00    male   \n",
      "1285                                Ware, Mr Frederick    3rd    NaN    male   \n",
      "1286                        Warren, Mr Charles William    3rd    NaN    male   \n",
      "1287                                  Wazli, Mr Yousif    3rd    NaN    male   \n",
      "1288                                  Webber, Mr James    3rd    NaN    male   \n",
      "1289                     Wennerstrom, Mr August Edvard    3rd    NaN    male   \n",
      "1290                                Wenzel, Mr Linhart    3rd    NaN    male   \n",
      "1291                        Widegren, Mr Charles Peter    3rd  51.00    male   \n",
      "1292                          Wiklund, Mr Jacob Alfred    3rd  18.00    male   \n",
      "1293                                 Wilkes, Mrs Ellen    3rd  45.00  female   \n",
      "1294                                  Willer, Mr Aaron    3rd    NaN    male   \n",
      "1295                                 Willey, Mr Edward    3rd    NaN    male   \n",
      "1296                          Williams, Mr Howard Hugh    3rd    NaN    male   \n",
      "1297                               Williams, Mr Leslie    3rd  28.00    male   \n",
      "1298                                Windelov, Mr Einar    3rd  21.00    male   \n",
      "1299                                   Wirz, Mr Albert    3rd  27.00    male   \n",
      "1300                             Wiseman, Mr Phillippe    3rd    NaN    male   \n",
      "1301                           Wittevrongel, Mr Camiel    3rd  36.00    male   \n",
      "1302                                 Yalsevac, Mr Ivan    3rd    NaN    male   \n",
      "1303                                Yasbeck, Mr Antoni    3rd  27.00    male   \n",
      "1304                               Yasbeck, Mrs Antoni    3rd  15.00  female   \n",
      "1305                                Youssef, Mr Gerios    3rd    NaN    male   \n",
      "1306                               Zabour, Miss Hileni    3rd    NaN  female   \n",
      "1307                               Zabour, Miss Tamini    3rd    NaN  female   \n",
      "1308                                Zakarian, Mr Artun    3rd  27.00    male   \n",
      "1309                            Zakarian, Mr Maprieder    3rd  26.00    male   \n",
      "1310                                  Zenni, Mr Philip    3rd  22.00    male   \n",
      "1311                                  Lievens, Mr Rene    3rd  24.00    male   \n",
      "1312                                    Zimmerman, Leo    3rd  29.00    male   \n",
      "\n",
      "      Survived  SexCode  \n",
      "0            1        1  \n",
      "1            0        1  \n",
      "2            0        0  \n",
      "3            0        1  \n",
      "4            1        0  \n",
      "5            1        0  \n",
      "6            1        1  \n",
      "7            0        0  \n",
      "8            1        1  \n",
      "9            0        0  \n",
      "10           0        0  \n",
      "11           1        1  \n",
      "12           1        1  \n",
      "13           1        0  \n",
      "14           0        0  \n",
      "15           1        1  \n",
      "16           0        0  \n",
      "17           0        0  \n",
      "18           1        0  \n",
      "19           1        1  \n",
      "20           1        0  \n",
      "21           0        0  \n",
      "22           1        0  \n",
      "23           1        1  \n",
      "24           1        0  \n",
      "25           0        0  \n",
      "26           1        0  \n",
      "27           1        1  \n",
      "28           1        1  \n",
      "29           0        0  \n",
      "...        ...      ...  \n",
      "1283         0        1  \n",
      "1284         0        0  \n",
      "1285         0        0  \n",
      "1286         0        0  \n",
      "1287         0        0  \n",
      "1288         0        0  \n",
      "1289         1        0  \n",
      "1290         0        0  \n",
      "1291         0        0  \n",
      "1292         0        0  \n",
      "1293         1        1  \n",
      "1294         0        0  \n",
      "1295         0        0  \n",
      "1296         0        0  \n",
      "1297         0        0  \n",
      "1298         0        0  \n",
      "1299         0        0  \n",
      "1300         0        0  \n",
      "1301         0        0  \n",
      "1302         1        0  \n",
      "1303         0        0  \n",
      "1304         1        1  \n",
      "1305         0        0  \n",
      "1306         0        1  \n",
      "1307         0        1  \n",
      "1308         0        0  \n",
      "1309         0        0  \n",
      "1310         0        0  \n",
      "1311         0        0  \n",
      "1312         0        0  \n",
      "\n",
      "[1313 rows x 6 columns]\n"
     ]
    }
   ],
   "source": [
    "df['Age'].replace(np.nan,0)\n",
    "print(df)"
   ]
  },
  {
   "cell_type": "markdown",
   "metadata": {},
   "source": [
    "## Return sex is not male"
   ]
  },
  {
   "cell_type": "code",
   "execution_count": 123,
   "metadata": {},
   "outputs": [
    {
     "data": {
      "text/html": [
       "<div>\n",
       "<style>\n",
       "    .dataframe thead tr:only-child th {\n",
       "        text-align: right;\n",
       "    }\n",
       "\n",
       "    .dataframe thead th {\n",
       "        text-align: left;\n",
       "    }\n",
       "\n",
       "    .dataframe tbody tr th {\n",
       "        vertical-align: top;\n",
       "    }\n",
       "</style>\n",
       "<table border=\"1\" class=\"dataframe\">\n",
       "  <thead>\n",
       "    <tr style=\"text-align: right;\">\n",
       "      <th></th>\n",
       "      <th>Name</th>\n",
       "      <th>PClass</th>\n",
       "      <th>Age</th>\n",
       "      <th>Sex</th>\n",
       "      <th>Survived</th>\n",
       "      <th>SexCode</th>\n",
       "    </tr>\n",
       "  </thead>\n",
       "  <tbody>\n",
       "    <tr>\n",
       "      <th>0</th>\n",
       "      <td>Allen, Miss Elisabeth Walton</td>\n",
       "      <td>1st</td>\n",
       "      <td>29.0</td>\n",
       "      <td>female</td>\n",
       "      <td>1</td>\n",
       "      <td>1</td>\n",
       "    </tr>\n",
       "    <tr>\n",
       "      <th>1</th>\n",
       "      <td>Allison, Miss Helen Loraine</td>\n",
       "      <td>1st</td>\n",
       "      <td>2.0</td>\n",
       "      <td>female</td>\n",
       "      <td>0</td>\n",
       "      <td>1</td>\n",
       "    </tr>\n",
       "    <tr>\n",
       "      <th>3</th>\n",
       "      <td>Allison, Mrs Hudson JC (Bessie Waldo Daniels)</td>\n",
       "      <td>1st</td>\n",
       "      <td>25.0</td>\n",
       "      <td>female</td>\n",
       "      <td>0</td>\n",
       "      <td>1</td>\n",
       "    </tr>\n",
       "    <tr>\n",
       "      <th>6</th>\n",
       "      <td>Andrews, Miss Kornelia Theodosia</td>\n",
       "      <td>1st</td>\n",
       "      <td>63.0</td>\n",
       "      <td>female</td>\n",
       "      <td>1</td>\n",
       "      <td>1</td>\n",
       "    </tr>\n",
       "    <tr>\n",
       "      <th>8</th>\n",
       "      <td>Appleton, Mrs Edward Dale (Charlotte Lamson)</td>\n",
       "      <td>1st</td>\n",
       "      <td>58.0</td>\n",
       "      <td>female</td>\n",
       "      <td>1</td>\n",
       "      <td>1</td>\n",
       "    </tr>\n",
       "  </tbody>\n",
       "</table>\n",
       "</div>"
      ],
      "text/plain": [
       "                                            Name PClass   Age     Sex  \\\n",
       "0                   Allen, Miss Elisabeth Walton    1st  29.0  female   \n",
       "1                    Allison, Miss Helen Loraine    1st   2.0  female   \n",
       "3  Allison, Mrs Hudson JC (Bessie Waldo Daniels)    1st  25.0  female   \n",
       "6               Andrews, Miss Kornelia Theodosia    1st  63.0  female   \n",
       "8   Appleton, Mrs Edward Dale (Charlotte Lamson)    1st  58.0  female   \n",
       "\n",
       "   Survived  SexCode  \n",
       "0         1        1  \n",
       "1         0        1  \n",
       "3         0        1  \n",
       "6         1        1  \n",
       "8         1        1  "
      ]
     },
     "execution_count": 123,
     "metadata": {},
     "output_type": "execute_result"
    }
   ],
   "source": [
    "df[df['Sex']!='male'].head()"
   ]
  },
  {
   "cell_type": "code",
   "execution_count": 128,
   "metadata": {},
   "outputs": [
    {
     "data": {
      "text/html": [
       "<div>\n",
       "<style>\n",
       "    .dataframe thead tr:only-child th {\n",
       "        text-align: right;\n",
       "    }\n",
       "\n",
       "    .dataframe thead th {\n",
       "        text-align: left;\n",
       "    }\n",
       "\n",
       "    .dataframe tbody tr th {\n",
       "        vertical-align: top;\n",
       "    }\n",
       "</style>\n",
       "<table border=\"1\" class=\"dataframe\">\n",
       "  <thead>\n",
       "    <tr style=\"text-align: right;\">\n",
       "      <th></th>\n",
       "      <th>Name</th>\n",
       "      <th>PClass</th>\n",
       "      <th>Age</th>\n",
       "      <th>Sex</th>\n",
       "      <th>Survived</th>\n",
       "      <th>SexCode</th>\n",
       "    </tr>\n",
       "  </thead>\n",
       "  <tbody>\n",
       "    <tr>\n",
       "      <th>1</th>\n",
       "      <td>Allison, Miss Helen Loraine</td>\n",
       "      <td>1st</td>\n",
       "      <td>2.00</td>\n",
       "      <td>female</td>\n",
       "      <td>0</td>\n",
       "      <td>1</td>\n",
       "    </tr>\n",
       "    <tr>\n",
       "      <th>2</th>\n",
       "      <td>Allison, Mr Hudson Joshua Creighton</td>\n",
       "      <td>1st</td>\n",
       "      <td>30.00</td>\n",
       "      <td>male</td>\n",
       "      <td>0</td>\n",
       "      <td>0</td>\n",
       "    </tr>\n",
       "    <tr>\n",
       "      <th>3</th>\n",
       "      <td>Allison, Mrs Hudson JC (Bessie Waldo Daniels)</td>\n",
       "      <td>1st</td>\n",
       "      <td>25.00</td>\n",
       "      <td>female</td>\n",
       "      <td>0</td>\n",
       "      <td>1</td>\n",
       "    </tr>\n",
       "    <tr>\n",
       "      <th>4</th>\n",
       "      <td>Allison, Master Hudson Trevor</td>\n",
       "      <td>1st</td>\n",
       "      <td>0.92</td>\n",
       "      <td>male</td>\n",
       "      <td>1</td>\n",
       "      <td>0</td>\n",
       "    </tr>\n",
       "    <tr>\n",
       "      <th>5</th>\n",
       "      <td>Anderson, Mr Harry</td>\n",
       "      <td>1st</td>\n",
       "      <td>47.00</td>\n",
       "      <td>male</td>\n",
       "      <td>1</td>\n",
       "      <td>0</td>\n",
       "    </tr>\n",
       "  </tbody>\n",
       "</table>\n",
       "</div>"
      ],
      "text/plain": [
       "                                            Name PClass    Age     Sex  \\\n",
       "1                    Allison, Miss Helen Loraine    1st   2.00  female   \n",
       "2            Allison, Mr Hudson Joshua Creighton    1st  30.00    male   \n",
       "3  Allison, Mrs Hudson JC (Bessie Waldo Daniels)    1st  25.00  female   \n",
       "4                  Allison, Master Hudson Trevor    1st   0.92    male   \n",
       "5                             Anderson, Mr Harry    1st  47.00    male   \n",
       "\n",
       "   Survived  SexCode  \n",
       "1         0        1  \n",
       "2         0        0  \n",
       "3         0        1  \n",
       "4         1        0  \n",
       "5         1        0  "
      ]
     },
     "execution_count": 128,
     "metadata": {},
     "output_type": "execute_result"
    }
   ],
   "source": [
    "df[df.index!=0].head()"
   ]
  },
  {
   "cell_type": "code",
   "execution_count": 130,
   "metadata": {},
   "outputs": [
    {
     "data": {
      "text/html": [
       "<div>\n",
       "<style>\n",
       "    .dataframe thead tr:only-child th {\n",
       "        text-align: right;\n",
       "    }\n",
       "\n",
       "    .dataframe thead th {\n",
       "        text-align: left;\n",
       "    }\n",
       "\n",
       "    .dataframe tbody tr th {\n",
       "        vertical-align: top;\n",
       "    }\n",
       "</style>\n",
       "<table border=\"1\" class=\"dataframe\">\n",
       "  <thead>\n",
       "    <tr style=\"text-align: right;\">\n",
       "      <th></th>\n",
       "      <th>Name</th>\n",
       "      <th>PClass</th>\n",
       "      <th>Age</th>\n",
       "      <th>Sex</th>\n",
       "      <th>Survived</th>\n",
       "      <th>SexCode</th>\n",
       "    </tr>\n",
       "  </thead>\n",
       "  <tbody>\n",
       "    <tr>\n",
       "      <th>0</th>\n",
       "      <td>Allen, Miss Elisabeth Walton</td>\n",
       "      <td>1st</td>\n",
       "      <td>29.00</td>\n",
       "      <td>female</td>\n",
       "      <td>1</td>\n",
       "      <td>1</td>\n",
       "    </tr>\n",
       "    <tr>\n",
       "      <th>1</th>\n",
       "      <td>Allison, Miss Helen Loraine</td>\n",
       "      <td>1st</td>\n",
       "      <td>2.00</td>\n",
       "      <td>female</td>\n",
       "      <td>0</td>\n",
       "      <td>1</td>\n",
       "    </tr>\n",
       "    <tr>\n",
       "      <th>2</th>\n",
       "      <td>Allison, Mr Hudson Joshua Creighton</td>\n",
       "      <td>1st</td>\n",
       "      <td>30.00</td>\n",
       "      <td>male</td>\n",
       "      <td>0</td>\n",
       "      <td>0</td>\n",
       "    </tr>\n",
       "    <tr>\n",
       "      <th>3</th>\n",
       "      <td>Allison, Mrs Hudson JC (Bessie Waldo Daniels)</td>\n",
       "      <td>1st</td>\n",
       "      <td>25.00</td>\n",
       "      <td>female</td>\n",
       "      <td>0</td>\n",
       "      <td>1</td>\n",
       "    </tr>\n",
       "    <tr>\n",
       "      <th>4</th>\n",
       "      <td>Allison, Master Hudson Trevor</td>\n",
       "      <td>1st</td>\n",
       "      <td>0.92</td>\n",
       "      <td>male</td>\n",
       "      <td>1</td>\n",
       "      <td>0</td>\n",
       "    </tr>\n",
       "  </tbody>\n",
       "</table>\n",
       "</div>"
      ],
      "text/plain": [
       "                                            Name PClass    Age     Sex  \\\n",
       "0                   Allen, Miss Elisabeth Walton    1st  29.00  female   \n",
       "1                    Allison, Miss Helen Loraine    1st   2.00  female   \n",
       "2            Allison, Mr Hudson Joshua Creighton    1st  30.00    male   \n",
       "3  Allison, Mrs Hudson JC (Bessie Waldo Daniels)    1st  25.00  female   \n",
       "4                  Allison, Master Hudson Trevor    1st   0.92    male   \n",
       "\n",
       "   Survived  SexCode  \n",
       "0         1        1  \n",
       "1         0        1  \n",
       "2         0        0  \n",
       "3         0        1  \n",
       "4         1        0  "
      ]
     },
     "execution_count": 130,
     "metadata": {},
     "output_type": "execute_result"
    }
   ],
   "source": [
    "df.drop_duplicates().head()"
   ]
  },
  {
   "cell_type": "code",
   "execution_count": 127,
   "metadata": {},
   "outputs": [
    {
     "data": {
      "text/html": [
       "<div>\n",
       "<style>\n",
       "    .dataframe thead tr:only-child th {\n",
       "        text-align: right;\n",
       "    }\n",
       "\n",
       "    .dataframe thead th {\n",
       "        text-align: left;\n",
       "    }\n",
       "\n",
       "    .dataframe tbody tr th {\n",
       "        vertical-align: top;\n",
       "    }\n",
       "</style>\n",
       "<table border=\"1\" class=\"dataframe\">\n",
       "  <thead>\n",
       "    <tr style=\"text-align: right;\">\n",
       "      <th></th>\n",
       "      <th>Name</th>\n",
       "      <th>PClass</th>\n",
       "      <th>Age</th>\n",
       "      <th>Sex</th>\n",
       "      <th>Survived</th>\n",
       "      <th>SexCode</th>\n",
       "    </tr>\n",
       "  </thead>\n",
       "  <tbody>\n",
       "    <tr>\n",
       "      <th>0</th>\n",
       "      <td>Allen, Miss Elisabeth Walton</td>\n",
       "      <td>1st</td>\n",
       "      <td>29.0</td>\n",
       "      <td>female</td>\n",
       "      <td>1</td>\n",
       "      <td>1</td>\n",
       "    </tr>\n",
       "    <tr>\n",
       "      <th>2</th>\n",
       "      <td>Allison, Mr Hudson Joshua Creighton</td>\n",
       "      <td>1st</td>\n",
       "      <td>30.0</td>\n",
       "      <td>male</td>\n",
       "      <td>0</td>\n",
       "      <td>0</td>\n",
       "    </tr>\n",
       "  </tbody>\n",
       "</table>\n",
       "</div>"
      ],
      "text/plain": [
       "                                  Name PClass   Age     Sex  Survived  SexCode\n",
       "0         Allen, Miss Elisabeth Walton    1st  29.0  female         1        1\n",
       "2  Allison, Mr Hudson Joshua Creighton    1st  30.0    male         0        0"
      ]
     },
     "execution_count": 127,
     "metadata": {},
     "output_type": "execute_result"
    }
   ],
   "source": [
    "df.drop_duplicates(subset=['Sex'])"
   ]
  },
  {
   "cell_type": "code",
   "execution_count": null,
   "metadata": {
    "collapsed": true
   },
   "outputs": [],
   "source": []
  },
  {
   "cell_type": "code",
   "execution_count": 131,
   "metadata": {},
   "outputs": [
    {
     "data": {
      "text/html": [
       "<div>\n",
       "<style>\n",
       "    .dataframe thead tr:only-child th {\n",
       "        text-align: right;\n",
       "    }\n",
       "\n",
       "    .dataframe thead th {\n",
       "        text-align: left;\n",
       "    }\n",
       "\n",
       "    .dataframe tbody tr th {\n",
       "        vertical-align: top;\n",
       "    }\n",
       "</style>\n",
       "<table border=\"1\" class=\"dataframe\">\n",
       "  <thead>\n",
       "    <tr style=\"text-align: right;\">\n",
       "      <th></th>\n",
       "      <th>Name</th>\n",
       "      <th>PClass</th>\n",
       "      <th>Age</th>\n",
       "      <th>Sex</th>\n",
       "      <th>Survived</th>\n",
       "      <th>SexCode</th>\n",
       "    </tr>\n",
       "  </thead>\n",
       "  <tbody>\n",
       "    <tr>\n",
       "      <th>1307</th>\n",
       "      <td>Zabour, Miss Tamini</td>\n",
       "      <td>3rd</td>\n",
       "      <td>NaN</td>\n",
       "      <td>female</td>\n",
       "      <td>0</td>\n",
       "      <td>1</td>\n",
       "    </tr>\n",
       "    <tr>\n",
       "      <th>1312</th>\n",
       "      <td>Zimmerman, Leo</td>\n",
       "      <td>3rd</td>\n",
       "      <td>29.0</td>\n",
       "      <td>male</td>\n",
       "      <td>0</td>\n",
       "      <td>0</td>\n",
       "    </tr>\n",
       "  </tbody>\n",
       "</table>\n",
       "</div>"
      ],
      "text/plain": [
       "                     Name PClass   Age     Sex  Survived  SexCode\n",
       "1307  Zabour, Miss Tamini    3rd   NaN  female         0        1\n",
       "1312       Zimmerman, Leo    3rd  29.0    male         0        0"
      ]
     },
     "execution_count": 131,
     "metadata": {},
     "output_type": "execute_result"
    }
   ],
   "source": [
    "df.drop_duplicates(subset=['Sex'],keep='last')"
   ]
  },
  {
   "cell_type": "code",
   "execution_count": 134,
   "metadata": {},
   "outputs": [
    {
     "data": {
      "text/html": [
       "<div>\n",
       "<style>\n",
       "    .dataframe thead tr:only-child th {\n",
       "        text-align: right;\n",
       "    }\n",
       "\n",
       "    .dataframe thead th {\n",
       "        text-align: left;\n",
       "    }\n",
       "\n",
       "    .dataframe tbody tr th {\n",
       "        vertical-align: top;\n",
       "    }\n",
       "</style>\n",
       "<table border=\"1\" class=\"dataframe\">\n",
       "  <thead>\n",
       "    <tr style=\"text-align: right;\">\n",
       "      <th></th>\n",
       "      <th>Age</th>\n",
       "      <th>Survived</th>\n",
       "      <th>SexCode</th>\n",
       "    </tr>\n",
       "    <tr>\n",
       "      <th>Sex</th>\n",
       "      <th></th>\n",
       "      <th></th>\n",
       "      <th></th>\n",
       "    </tr>\n",
       "  </thead>\n",
       "  <tbody>\n",
       "    <tr>\n",
       "      <th>female</th>\n",
       "      <td>29.396424</td>\n",
       "      <td>0.666667</td>\n",
       "      <td>1.0</td>\n",
       "    </tr>\n",
       "    <tr>\n",
       "      <th>male</th>\n",
       "      <td>31.014338</td>\n",
       "      <td>0.166863</td>\n",
       "      <td>0.0</td>\n",
       "    </tr>\n",
       "  </tbody>\n",
       "</table>\n",
       "</div>"
      ],
      "text/plain": [
       "              Age  Survived  SexCode\n",
       "Sex                                 \n",
       "female  29.396424  0.666667      1.0\n",
       "male    31.014338  0.166863      0.0"
      ]
     },
     "execution_count": 134,
     "metadata": {},
     "output_type": "execute_result"
    }
   ],
   "source": [
    "df.groupby('Sex').mean()"
   ]
  },
  {
   "cell_type": "code",
   "execution_count": 135,
   "metadata": {},
   "outputs": [
    {
     "data": {
      "text/plain": [
       "Survived\n",
       "0    863\n",
       "1    450\n",
       "Name: Name, dtype: int64"
      ]
     },
     "execution_count": 135,
     "metadata": {},
     "output_type": "execute_result"
    }
   ],
   "source": [
    "df.groupby('Survived')['Name'].count()"
   ]
  },
  {
   "cell_type": "code",
   "execution_count": 140,
   "metadata": {},
   "outputs": [
    {
     "data": {
      "text/plain": [
       "Survived  Sex   \n",
       "0         female    24.901408\n",
       "          male      32.320780\n",
       "1         female    30.867143\n",
       "          male      25.951875\n",
       "Name: Age, dtype: float64"
      ]
     },
     "execution_count": 140,
     "metadata": {},
     "output_type": "execute_result"
    }
   ],
   "source": [
    "df.groupby(['Survived','Sex'])['Age'].mean()"
   ]
  },
  {
   "cell_type": "code",
   "execution_count": 153,
   "metadata": {},
   "outputs": [
    {
     "data": {
      "text/html": [
       "<div>\n",
       "<style>\n",
       "    .dataframe thead tr:only-child th {\n",
       "        text-align: right;\n",
       "    }\n",
       "\n",
       "    .dataframe thead th {\n",
       "        text-align: left;\n",
       "    }\n",
       "\n",
       "    .dataframe tbody tr th {\n",
       "        vertical-align: top;\n",
       "    }\n",
       "</style>\n",
       "<table border=\"1\" class=\"dataframe\">\n",
       "  <thead>\n",
       "    <tr style=\"text-align: right;\">\n",
       "      <th></th>\n",
       "      <th>Sale_Amount</th>\n",
       "    </tr>\n",
       "  </thead>\n",
       "  <tbody>\n",
       "    <tr>\n",
       "      <th>2017-06-11</th>\n",
       "      <td>86134</td>\n",
       "    </tr>\n",
       "    <tr>\n",
       "      <th>2017-06-18</th>\n",
       "      <td>100602</td>\n",
       "    </tr>\n",
       "    <tr>\n",
       "      <th>2017-06-25</th>\n",
       "      <td>101138</td>\n",
       "    </tr>\n",
       "    <tr>\n",
       "      <th>2017-07-02</th>\n",
       "      <td>101085</td>\n",
       "    </tr>\n",
       "    <tr>\n",
       "      <th>2017-07-09</th>\n",
       "      <td>100505</td>\n",
       "    </tr>\n",
       "    <tr>\n",
       "      <th>2017-07-16</th>\n",
       "      <td>10291</td>\n",
       "    </tr>\n",
       "  </tbody>\n",
       "</table>\n",
       "</div>"
      ],
      "text/plain": [
       "            Sale_Amount\n",
       "2017-06-11        86134\n",
       "2017-06-18       100602\n",
       "2017-06-25       101138\n",
       "2017-07-02       101085\n",
       "2017-07-09       100505\n",
       "2017-07-16        10291"
      ]
     },
     "execution_count": 153,
     "metadata": {},
     "output_type": "execute_result"
    }
   ],
   "source": [
    "time_index = pd.date_range('06/06/2017',periods=100000,freq='30s')\n",
    "df1 = pd.DataFrame(index=time_index)\n",
    "df1['Sale_Amount'] = np.random.randint(1,10,100000)\n",
    "df1.resample('W').sum()"
   ]
  },
  {
   "cell_type": "code",
   "execution_count": 154,
   "metadata": {},
   "outputs": [
    {
     "data": {
      "text/html": [
       "<div>\n",
       "<style>\n",
       "    .dataframe thead tr:only-child th {\n",
       "        text-align: right;\n",
       "    }\n",
       "\n",
       "    .dataframe thead th {\n",
       "        text-align: left;\n",
       "    }\n",
       "\n",
       "    .dataframe tbody tr th {\n",
       "        vertical-align: top;\n",
       "    }\n",
       "</style>\n",
       "<table border=\"1\" class=\"dataframe\">\n",
       "  <thead>\n",
       "    <tr style=\"text-align: right;\">\n",
       "      <th></th>\n",
       "      <th>Sale_Amount</th>\n",
       "    </tr>\n",
       "  </thead>\n",
       "  <tbody>\n",
       "    <tr>\n",
       "      <th>2017-06-30</th>\n",
       "      <td>72000</td>\n",
       "    </tr>\n",
       "    <tr>\n",
       "      <th>2017-07-31</th>\n",
       "      <td>28000</td>\n",
       "    </tr>\n",
       "  </tbody>\n",
       "</table>\n",
       "</div>"
      ],
      "text/plain": [
       "            Sale_Amount\n",
       "2017-06-30        72000\n",
       "2017-07-31        28000"
      ]
     },
     "execution_count": 154,
     "metadata": {},
     "output_type": "execute_result"
    }
   ],
   "source": [
    "df1.resample('M').count()"
   ]
  },
  {
   "cell_type": "code",
   "execution_count": 161,
   "metadata": {},
   "outputs": [
    {
     "data": {
      "text/html": [
       "<div>\n",
       "<style>\n",
       "    .dataframe thead tr:only-child th {\n",
       "        text-align: right;\n",
       "    }\n",
       "\n",
       "    .dataframe thead th {\n",
       "        text-align: left;\n",
       "    }\n",
       "\n",
       "    .dataframe tbody tr th {\n",
       "        vertical-align: top;\n",
       "    }\n",
       "</style>\n",
       "<table border=\"1\" class=\"dataframe\">\n",
       "  <thead>\n",
       "    <tr style=\"text-align: right;\">\n",
       "      <th></th>\n",
       "      <th>Sale_Amount</th>\n",
       "    </tr>\n",
       "  </thead>\n",
       "  <tbody>\n",
       "    <tr>\n",
       "      <th>2017-06-11</th>\n",
       "      <td>4.984606</td>\n",
       "    </tr>\n",
       "    <tr>\n",
       "      <th>2017-06-25</th>\n",
       "      <td>5.003472</td>\n",
       "    </tr>\n",
       "    <tr>\n",
       "      <th>2017-07-09</th>\n",
       "      <td>4.999752</td>\n",
       "    </tr>\n",
       "    <tr>\n",
       "      <th>2017-07-23</th>\n",
       "      <td>4.947596</td>\n",
       "    </tr>\n",
       "  </tbody>\n",
       "</table>\n",
       "</div>"
      ],
      "text/plain": [
       "            Sale_Amount\n",
       "2017-06-11     4.984606\n",
       "2017-06-25     5.003472\n",
       "2017-07-09     4.999752\n",
       "2017-07-23     4.947596"
      ]
     },
     "execution_count": 161,
     "metadata": {},
     "output_type": "execute_result"
    }
   ],
   "source": [
    "df1.resample('2W').mean()"
   ]
  },
  {
   "cell_type": "markdown",
   "metadata": {},
   "source": [
    "## Looping over a column"
   ]
  },
  {
   "cell_type": "code",
   "execution_count": 160,
   "metadata": {},
   "outputs": [
    {
     "name": "stdout",
     "output_type": "stream",
     "text": [
      "ALLEN, MISS ELISABETH WALTON\n",
      "ALLISON, MISS HELEN LORAINE\n"
     ]
    }
   ],
   "source": [
    "for name in df['Name'][0:2]:\n",
    "    print(name.upper())"
   ]
  },
  {
   "cell_type": "markdown",
   "metadata": {},
   "source": [
    "## Reading a function over all elements in a column by creating function"
   ]
  },
  {
   "cell_type": "code",
   "execution_count": 164,
   "metadata": {},
   "outputs": [
    {
     "data": {
      "text/plain": [
       "0    ALLEN, MISS ELISABETH WALTON\n",
       "1     ALLISON, MISS HELEN LORAINE\n",
       "Name: Name, dtype: object"
      ]
     },
     "execution_count": 164,
     "metadata": {},
     "output_type": "execute_result"
    }
   ],
   "source": [
    "def uppercase(x):\n",
    "    return x.upper()\n",
    "df['Name'].apply(uppercase)[0:2]"
   ]
  },
  {
   "cell_type": "markdown",
   "metadata": {},
   "source": [
    "## Applying function to a group"
   ]
  },
  {
   "cell_type": "code",
   "execution_count": 166,
   "metadata": {},
   "outputs": [
    {
     "data": {
      "text/html": [
       "<div>\n",
       "<style>\n",
       "    .dataframe thead tr:only-child th {\n",
       "        text-align: right;\n",
       "    }\n",
       "\n",
       "    .dataframe thead th {\n",
       "        text-align: left;\n",
       "    }\n",
       "\n",
       "    .dataframe tbody tr th {\n",
       "        vertical-align: top;\n",
       "    }\n",
       "</style>\n",
       "<table border=\"1\" class=\"dataframe\">\n",
       "  <thead>\n",
       "    <tr style=\"text-align: right;\">\n",
       "      <th></th>\n",
       "      <th>Name</th>\n",
       "      <th>PClass</th>\n",
       "      <th>Age</th>\n",
       "      <th>Sex</th>\n",
       "      <th>Survived</th>\n",
       "      <th>SexCode</th>\n",
       "    </tr>\n",
       "    <tr>\n",
       "      <th>Sex</th>\n",
       "      <th></th>\n",
       "      <th></th>\n",
       "      <th></th>\n",
       "      <th></th>\n",
       "      <th></th>\n",
       "      <th></th>\n",
       "    </tr>\n",
       "  </thead>\n",
       "  <tbody>\n",
       "    <tr>\n",
       "      <th>female</th>\n",
       "      <td>462</td>\n",
       "      <td>462</td>\n",
       "      <td>288</td>\n",
       "      <td>462</td>\n",
       "      <td>462</td>\n",
       "      <td>462</td>\n",
       "    </tr>\n",
       "    <tr>\n",
       "      <th>male</th>\n",
       "      <td>851</td>\n",
       "      <td>851</td>\n",
       "      <td>468</td>\n",
       "      <td>851</td>\n",
       "      <td>851</td>\n",
       "      <td>851</td>\n",
       "    </tr>\n",
       "  </tbody>\n",
       "</table>\n",
       "</div>"
      ],
      "text/plain": [
       "        Name  PClass  Age  Sex  Survived  SexCode\n",
       "Sex                                              \n",
       "female   462     462  288  462       462      462\n",
       "male     851     851  468  851       851      851"
      ]
     },
     "execution_count": 166,
     "metadata": {},
     "output_type": "execute_result"
    }
   ],
   "source": [
    "df.groupby('Sex').apply(lambda x: x.count())"
   ]
  },
  {
   "cell_type": "code",
   "execution_count": null,
   "metadata": {
    "collapsed": true
   },
   "outputs": [],
   "source": []
  }
 ],
 "metadata": {
  "kernelspec": {
   "display_name": "Python 3",
   "language": "python",
   "name": "python3"
  },
  "language_info": {
   "codemirror_mode": {
    "name": "ipython",
    "version": 3
   },
   "file_extension": ".py",
   "mimetype": "text/x-python",
   "name": "python",
   "nbconvert_exporter": "python",
   "pygments_lexer": "ipython3",
   "version": "3.6.3"
  }
 },
 "nbformat": 4,
 "nbformat_minor": 2
}
